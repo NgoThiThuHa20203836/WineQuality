{
 "cells": [
  {
   "cell_type": "code",
   "execution_count": 1,
   "id": "920bdf4e",
   "metadata": {},
   "outputs": [],
   "source": [
    "import os\n",
    "import numpy as np\n",
    "import pandas as pd\n",
    "import matplotlib.pyplot as plt\n",
    "import seaborn as sns"
   ]
  },
  {
   "cell_type": "code",
   "execution_count": 4,
   "id": "266f06f5",
   "metadata": {},
   "outputs": [
    {
     "name": "stdout",
     "output_type": "stream",
     "text": [
      "G:\\Learning resource\\Github\\WineQuality\\SMSmall\\Data Loader\\Datdo_DataExplore\\WineQuality\n",
      "G:\\Learning resource\\Github\\WineQuality\\SMSmall\\Data Loader\\Datdo_DataExplore\\WineQuality\\Data set\n"
     ]
    }
   ],
   "source": [
    "def load_wine_data(path_to_dir, filename, csv_separator):\n",
    "    csv_path = os.path.join(path_to_dir, filename)\n",
    "    return pd.read_csv(csv_path, sep=csv_separator)\n",
    "#os.path.dirname(path) return the parent directory of the given path\n",
    "PARENT_DIR = os.path.dirname(os.getcwd())\n",
    "WINE_DIR = os.path.join(PARENT_DIR, \"Data set\")\n",
    "print(PARENT_DIR)\n",
    "print(WINE_DIR)"
   ]
  },
  {
   "cell_type": "code",
   "execution_count": 5,
   "id": "700da004",
   "metadata": {},
   "outputs": [],
   "source": [
    "df_red_wine = load_wine_data(WINE_DIR, \"winequality-red.csv\", \";\")\n",
    "df_white_wine = load_wine_data(WINE_DIR, \"winequality-white.csv\", \";\")"
   ]
  },
  {
   "cell_type": "markdown",
   "id": "488f7ad4",
   "metadata": {},
   "source": [
    "# Overall Analysis: 2 Dataframe df_red_wine & df_white_wine"
   ]
  },
  {
   "cell_type": "markdown",
   "id": "9ff49810",
   "metadata": {},
   "source": [
    "## 1. Showing, check the min, max, avg of the whole dataset"
   ]
  },
  {
   "cell_type": "code",
   "execution_count": null,
   "id": "abd37bd8",
   "metadata": {},
   "outputs": [],
   "source": [
    "df_red_wine"
   ]
  },
  {
   "cell_type": "code",
   "execution_count": null,
   "id": "00d8457a",
   "metadata": {},
   "outputs": [],
   "source": [
    "df_white_wine"
   ]
  },
  {
   "cell_type": "code",
   "execution_count": null,
   "id": "c3ecbec6",
   "metadata": {},
   "outputs": [],
   "source": [
    "df_red_wine_des = df_red_wine.describe()\n",
    "df_red_wine_des"
   ]
  },
  {
   "cell_type": "code",
   "execution_count": null,
   "id": "2524ab6f",
   "metadata": {},
   "outputs": [],
   "source": [
    "df_white_wine_des = df_red_wine.describe()\n",
    "df_white_wine_des"
   ]
  },
  {
   "cell_type": "code",
   "execution_count": null,
   "id": "67f1ed19",
   "metadata": {},
   "outputs": [],
   "source": [
    "df_red_wine_minmax = df_red_wine_des.loc[[\"mean\", \"max\", \"min\"]]\n",
    "df_red_wine_minmax"
   ]
  },
  {
   "cell_type": "code",
   "execution_count": null,
   "id": "1af2c3ac",
   "metadata": {},
   "outputs": [],
   "source": [
    "df_white_wine_minmax = df_red_wine_des.loc[[\"mean\", \"max\", \"min\"]]\n",
    "df_white_wine_minmax"
   ]
  },
  {
   "cell_type": "markdown",
   "id": "07db5152",
   "metadata": {},
   "source": [
    "## 2. check missing data point, plot a heat map of showing if null is exist"
   ]
  },
  {
   "cell_type": "markdown",
   "id": "80974680",
   "metadata": {},
   "source": [
    "## 3. Show number of samples and features using df.info() && 4. Check the info, datatype of each feature"
   ]
  },
  {
   "cell_type": "code",
   "execution_count": null,
   "id": "2372daaf",
   "metadata": {},
   "outputs": [],
   "source": []
  },
  {
   "cell_type": "markdown",
   "id": "fd569b46",
   "metadata": {},
   "source": [
    "## 5. Correlation and Covariance"
   ]
  },
  {
   "cell_type": "markdown",
   "id": "1a62eed1",
   "metadata": {},
   "source": [
    "# Deep Analysis"
   ]
  },
  {
   "cell_type": "markdown",
   "id": "54fc1c8f",
   "metadata": {},
   "source": [
    "## Create scatter plots between every 2 pairs of features: "
   ]
  },
  {
   "cell_type": "markdown",
   "id": "8054f43f",
   "metadata": {},
   "source": [
    "## Create histogram subplots to visualize all features"
   ]
  },
  {
   "cell_type": "markdown",
   "id": "45071bce",
   "metadata": {},
   "source": [
    "## Create visualization plots for every feature"
   ]
  },
  {
   "cell_type": "markdown",
   "id": "8c563325",
   "metadata": {},
   "source": [
    "# Draft"
   ]
  },
  {
   "cell_type": "markdown",
   "id": "61c05005",
   "metadata": {},
   "source": [
    "> hl271\n",
    "\n",
    "## 3. Suggest ML Algorithm to classify the wine's quality\n",
    "\n",
    "### Approach 1: Convert to Regression Problem: \n",
    "\n",
    "- Suggested Model\n",
    "    - Multiple Linear Regression Model\n",
    "- Feature Selection: Choose 4-5 most correlated features to wine's quality (Ex: alcohol, acid_citric, sulphate, volatile acidity) \n",
    "- Round up the predicted quality to integer value\n",
    "\n",
    "### Approach 2: Classification Problem\n",
    "\n",
    "- For simplifying purpose, we can use **binary classification**: classify wine's quality is \n",
    "    - bad if quality <=5\n",
    "    - good if quality >5\n",
    "- Suggested Models:\n",
    "    - Support Vector Classifier\n",
    "    - Decision Tree/ Random Forest Classifier"
   ]
  },
  {
   "cell_type": "markdown",
   "id": "845e4383",
   "metadata": {},
   "source": [
    "> hl271\n",
    "\n",
    "## 4. Suggest ML Algorithm to group wine based on its features\n",
    "- This is a **Clustering** problem\n",
    "- Suggested Model:\n",
    "    - K-Means"
   ]
  },
  {
   "cell_type": "code",
   "execution_count": null,
   "id": "1fefc418",
   "metadata": {},
   "outputs": [],
   "source": []
  }
 ],
 "metadata": {
  "kernelspec": {
   "display_name": "Python 3 (ipykernel)",
   "language": "python",
   "name": "python3"
  },
  "language_info": {
   "codemirror_mode": {
    "name": "ipython",
    "version": 3
   },
   "file_extension": ".py",
   "mimetype": "text/x-python",
   "name": "python",
   "nbconvert_exporter": "python",
   "pygments_lexer": "ipython3",
   "version": "3.10.5"
  }
 },
 "nbformat": 4,
 "nbformat_minor": 5
}
