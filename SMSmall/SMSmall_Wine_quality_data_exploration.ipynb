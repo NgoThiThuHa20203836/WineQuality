{
 "cells": [
  {
   "cell_type": "code",
   "execution_count": 1,
   "id": "920bdf4e",
   "metadata": {},
   "outputs": [],
   "source": [
    "import os\n",
    "import numpy as np\n",
    "import pandas as pd\n",
    "import matplotlib.pyplot as plt\n",
    "import seaborn as sns"
   ]
  },
  {
   "cell_type": "code",
   "execution_count": 2,
   "id": "266f06f5",
   "metadata": {},
   "outputs": [
    {
     "name": "stdout",
     "output_type": "stream",
     "text": [
      "/home/hl271/ML/WineQuality\n",
      "/home/hl271/ML/WineQuality/Data set\n"
     ]
    }
   ],
   "source": [
    "def load_wine_data(path_to_dir, filename, csv_separator):\n",
    "    csv_path = os.path.join(path_to_dir, filename)\n",
    "    return pd.read_csv(csv_path, sep=csv_separator)\n",
    "#os.path.dirname(path) return the parent directory of the given path\n",
    "PARENT_DIR = os.path.dirname(os.getcwd())\n",
    "WINE_DIR = os.path.join(PARENT_DIR, \"Data set\")\n",
    "print(PARENT_DIR)\n",
    "print(WINE_DIR)"
   ]
  },
  {
   "cell_type": "code",
   "execution_count": 3,
   "id": "700da004",
   "metadata": {},
   "outputs": [],
   "source": [
    "df_red_wine = load_wine_data(WINE_DIR, \"winequality-red.csv\", \";\")\n",
    "df_white_wine = load_wine_data(WINE_DIR, \"winequality-white.csv\", \";\")"
   ]
  },
  {
   "cell_type": "markdown",
   "id": "488f7ad4",
   "metadata": {},
   "source": [
    "# Overall Analysis: 2 Dataframe df_red_wine & df_white_wine"
   ]
  },
  {
   "cell_type": "markdown",
   "id": "9ff49810",
   "metadata": {},
   "source": [
    "## 1. Showing, check the min, max, avg of the whole dataset"
   ]
  },
  {
   "cell_type": "markdown",
   "id": "07db5152",
   "metadata": {},
   "source": [
    "## 2. check missing data point, plot a heat map of showing if null is exist"
   ]
  },
  {
   "cell_type": "markdown",
   "id": "80974680",
   "metadata": {},
   "source": [
    "## 3. Show number of samples and features using df.info() && 4. Check the info, datatype of each feature"
   ]
  },
  {
   "cell_type": "markdown",
   "id": "fd569b46",
   "metadata": {},
   "source": [
    "## 5. Correlation and Covariance"
   ]
  },
  {
   "cell_type": "markdown",
   "id": "1a62eed1",
   "metadata": {},
   "source": [
    "# Deep Analysis"
   ]
  },
  {
   "cell_type": "markdown",
   "id": "54fc1c8f",
   "metadata": {},
   "source": [
    "## Create scatter plots between every 2 pairs of features: "
   ]
  },
  {
   "cell_type": "markdown",
   "id": "8054f43f",
   "metadata": {},
   "source": [
    "## Create histogram subplots to visualize all features"
   ]
  },
  {
   "cell_type": "markdown",
   "id": "45071bce",
   "metadata": {},
   "source": [
    "## Create visualization plots for every feature"
   ]
  },
  {
   "cell_type": "markdown",
   "id": "8c563325",
   "metadata": {},
   "source": [
    "# Conclusion from data"
   ]
  },
  {
   "cell_type": "code",
   "execution_count": null,
   "id": "92241807",
   "metadata": {},
   "outputs": [],
   "source": []
  }
 ],
 "metadata": {
  "kernelspec": {
   "display_name": "Python 3 (ipykernel)",
   "language": "python",
   "name": "python3"
  },
  "language_info": {
   "codemirror_mode": {
    "name": "ipython",
    "version": 3
   },
   "file_extension": ".py",
   "mimetype": "text/x-python",
   "name": "python",
   "nbconvert_exporter": "python",
   "pygments_lexer": "ipython3",
   "version": "3.8.10"
  }
 },
 "nbformat": 4,
 "nbformat_minor": 5
}
