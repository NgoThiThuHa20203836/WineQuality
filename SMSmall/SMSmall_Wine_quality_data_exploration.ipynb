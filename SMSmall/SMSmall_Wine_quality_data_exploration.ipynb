{
 "cells": [
  {
   "cell_type": "code",
   "execution_count": 1,
   "id": "920bdf4e",
   "metadata": {},
   "outputs": [],
   "source": [
    "import os\n",
    "import numpy as np\n",
    "import pandas as pd\n",
    "import matplotlib.pyplot as plt\n",
    "import seaborn as sns"
   ]
  },
  {
   "cell_type": "code",
   "execution_count": 4,
   "id": "266f06f5",
   "metadata": {},
   "outputs": [
    {
     "name": "stdout",
     "output_type": "stream",
     "text": [
      "G:\\Learning resource\\Github\\WineQuality\\SMSmall\\Data Loader\\Datdo_DataExplore\\WineQuality\n",
      "G:\\Learning resource\\Github\\WineQuality\\SMSmall\\Data Loader\\Datdo_DataExplore\\WineQuality\\Data set\n"
     ]
    }
   ],
   "source": [
    "def load_wine_data(path_to_dir, filename, csv_separator):\n",
    "    csv_path = os.path.join(path_to_dir, filename)\n",
    "    return pd.read_csv(csv_path, sep=csv_separator)\n",
    "#os.path.dirname(path) return the parent directory of the given path\n",
    "PARENT_DIR = os.path.dirname(os.getcwd())\n",
    "WINE_DIR = os.path.join(PARENT_DIR, \"Data set\")\n",
    "print(PARENT_DIR)\n",
    "print(WINE_DIR)"
   ]
  },
  {
   "cell_type": "code",
   "execution_count": 5,
   "id": "700da004",
   "metadata": {},
   "outputs": [],
   "source": [
    "df_red_wine = load_wine_data(WINE_DIR, \"winequality-red.csv\", \";\")\n",
    "df_white_wine = load_wine_data(WINE_DIR, \"winequality-white.csv\", \";\")"
   ]
  },
  {
   "cell_type": "markdown",
   "id": "488f7ad4",
   "metadata": {},
   "source": [
    "# Overall Analysis: 2 Dataframe df_red_wine & df_white_wine"
   ]
  },
  {
   "cell_type": "markdown",
   "id": "9ff49810",
   "metadata": {},
   "source": [
    "## 1. Showing, check the min, max, avg of the whole dataset"
   ]
  },
  {
   "cell_type": "code",
   "execution_count": 96,
   "id": "2520dcba",
   "metadata": {
    "scrolled": true
   },
   "outputs": [
    {
     "data": {
      "text/html": [
       "<div>\n",
       "<style scoped>\n",
       "    .dataframe tbody tr th:only-of-type {\n",
       "        vertical-align: middle;\n",
       "    }\n",
       "\n",
       "    .dataframe tbody tr th {\n",
       "        vertical-align: top;\n",
       "    }\n",
       "\n",
       "    .dataframe thead th {\n",
       "        text-align: right;\n",
       "    }\n",
       "</style>\n",
       "<table border=\"1\" class=\"dataframe\">\n",
       "  <thead>\n",
       "    <tr style=\"text-align: right;\">\n",
       "      <th></th>\n",
       "      <th>fixed acidity</th>\n",
       "      <th>volatile acidity</th>\n",
       "      <th>citric acid</th>\n",
       "      <th>residual sugar</th>\n",
       "      <th>chlorides</th>\n",
       "      <th>free sulfur dioxide</th>\n",
       "      <th>total sulfur dioxide</th>\n",
       "      <th>density</th>\n",
       "      <th>pH</th>\n",
       "      <th>sulphates</th>\n",
       "      <th>alcohol</th>\n",
       "      <th>quality</th>\n",
       "    </tr>\n",
       "  </thead>\n",
       "  <tbody>\n",
       "    <tr>\n",
       "      <th>0</th>\n",
       "      <td>7.0</td>\n",
       "      <td>0.27</td>\n",
       "      <td>0.36</td>\n",
       "      <td>20.7</td>\n",
       "      <td>0.045</td>\n",
       "      <td>45.0</td>\n",
       "      <td>170.0</td>\n",
       "      <td>1.0010</td>\n",
       "      <td>3.00</td>\n",
       "      <td>0.45</td>\n",
       "      <td>8.8</td>\n",
       "      <td>6</td>\n",
       "    </tr>\n",
       "    <tr>\n",
       "      <th>1</th>\n",
       "      <td>6.3</td>\n",
       "      <td>0.30</td>\n",
       "      <td>0.34</td>\n",
       "      <td>1.6</td>\n",
       "      <td>0.049</td>\n",
       "      <td>14.0</td>\n",
       "      <td>132.0</td>\n",
       "      <td>0.9940</td>\n",
       "      <td>3.30</td>\n",
       "      <td>0.49</td>\n",
       "      <td>9.5</td>\n",
       "      <td>6</td>\n",
       "    </tr>\n",
       "    <tr>\n",
       "      <th>2</th>\n",
       "      <td>8.1</td>\n",
       "      <td>0.28</td>\n",
       "      <td>0.40</td>\n",
       "      <td>6.9</td>\n",
       "      <td>0.050</td>\n",
       "      <td>30.0</td>\n",
       "      <td>97.0</td>\n",
       "      <td>0.9951</td>\n",
       "      <td>3.26</td>\n",
       "      <td>0.44</td>\n",
       "      <td>10.1</td>\n",
       "      <td>6</td>\n",
       "    </tr>\n",
       "    <tr>\n",
       "      <th>3</th>\n",
       "      <td>7.2</td>\n",
       "      <td>0.23</td>\n",
       "      <td>0.32</td>\n",
       "      <td>8.5</td>\n",
       "      <td>0.058</td>\n",
       "      <td>47.0</td>\n",
       "      <td>186.0</td>\n",
       "      <td>0.9956</td>\n",
       "      <td>3.19</td>\n",
       "      <td>0.40</td>\n",
       "      <td>9.9</td>\n",
       "      <td>6</td>\n",
       "    </tr>\n",
       "    <tr>\n",
       "      <th>4</th>\n",
       "      <td>7.2</td>\n",
       "      <td>0.23</td>\n",
       "      <td>0.32</td>\n",
       "      <td>8.5</td>\n",
       "      <td>0.058</td>\n",
       "      <td>47.0</td>\n",
       "      <td>186.0</td>\n",
       "      <td>0.9956</td>\n",
       "      <td>3.19</td>\n",
       "      <td>0.40</td>\n",
       "      <td>9.9</td>\n",
       "      <td>6</td>\n",
       "    </tr>\n",
       "  </tbody>\n",
       "</table>\n",
       "</div>"
      ],
      "text/plain": [
       "   fixed acidity  volatile acidity  citric acid  residual sugar  chlorides  \\\n",
       "0            7.0              0.27         0.36            20.7      0.045   \n",
       "1            6.3              0.30         0.34             1.6      0.049   \n",
       "2            8.1              0.28         0.40             6.9      0.050   \n",
       "3            7.2              0.23         0.32             8.5      0.058   \n",
       "4            7.2              0.23         0.32             8.5      0.058   \n",
       "\n",
       "   free sulfur dioxide  total sulfur dioxide  density    pH  sulphates  \\\n",
       "0                 45.0                 170.0   1.0010  3.00       0.45   \n",
       "1                 14.0                 132.0   0.9940  3.30       0.49   \n",
       "2                 30.0                  97.0   0.9951  3.26       0.44   \n",
       "3                 47.0                 186.0   0.9956  3.19       0.40   \n",
       "4                 47.0                 186.0   0.9956  3.19       0.40   \n",
       "\n",
       "   alcohol  quality  \n",
       "0      8.8        6  \n",
       "1      9.5        6  \n",
       "2     10.1        6  \n",
       "3      9.9        6  \n",
       "4      9.9        6  "
      ]
     },
     "execution_count": 96,
     "metadata": {},
     "output_type": "execute_result"
    }
   ],
   "source": [
    "#Dat\n",
    "\n",
    "df_red_wine.head()\n",
    "df_white_wine.head()"
   ]
  },
  {
   "cell_type": "code",
   "execution_count": null,
   "id": "9c8ca71c",
   "metadata": {},
   "outputs": [],
   "source": [
    "#Dat\n",
    "\n",
    "df_red_wine_des = df_red_wine.describe()\n",
    "df_red_wine_des\n",
    "df_white_wine_des = df_red_wine.describe()\n",
    "df_white_wine_des"
   ]
  },
  {
   "cell_type": "code",
   "execution_count": null,
   "id": "ee432db3",
   "metadata": {},
   "outputs": [],
   "source": [
    "#Dat\n",
    "\n",
    "df_red_wine_minmax = df_red_wine_des.loc[[\"mean\", \"max\", \"min\"]]\n",
    "print(df_red_wine_minmax)\n",
    "df_white_wine_minmax = df_red_wine_des.loc[[\"mean\", \"max\", \"min\"]]\n",
    "print(df_white_wine_minmax"
   ]
  },
  {
   "cell_type": "markdown",
   "id": "07db5152",
   "metadata": {},
   "source": [
    "## 2. check missing data point, plot a heat map of showing if null is exist"
   ]
  },
  {
   "cell_type": "code",
   "execution_count": 36,
   "id": "1ef92bb5",
   "metadata": {},
   "outputs": [
    {
     "name": "stdout",
     "output_type": "stream",
     "text": [
      "Total missing values of red wine:  0\n",
      "Total missing values of white wine:  0\n"
     ]
    }
   ],
   "source": [
    "#Dat\n",
    "\n",
    "print(\"Total missing values of red wine: \",df_red_wine.isnull().sum().sum())\n",
    "print(\"Total missing values of white wine: \",df_red_wine.isnull().sum().sum())"
   ]
  },
  {
   "cell_type": "markdown",
   "id": "80974680",
   "metadata": {},
   "source": [
    "## 3. Show number of samples and features using df.info() && 4. Check the info, datatype of each feature"
   ]
  },
  {
   "cell_type": "code",
   "execution_count": null,
   "id": "a3b7dd44",
   "metadata": {},
   "outputs": [],
   "source": [
    "#Dat\n",
    "\n",
    "df_red_wine.info()\n",
    "df_white_wine.info()"
   ]
  },
  {
   "cell_type": "markdown",
   "id": "fd569b46",
   "metadata": {},
   "source": [
    "## 5. Correlation and Covariance"
   ]
  },
  {
   "cell_type": "markdown",
   "id": "1a62eed1",
   "metadata": {},
   "source": [
    "# Deep Analysis"
   ]
  },
  {
   "cell_type": "markdown",
   "id": "54fc1c8f",
   "metadata": {},
   "source": [
    "## Create scatter plots between every 2 pairs of features: "
   ]
  },
  {
   "cell_type": "markdown",
   "id": "8054f43f",
   "metadata": {},
   "source": [
    "## Create histogram subplots to visualize all features"
   ]
  },
  {
   "cell_type": "code",
   "execution_count": null,
   "id": "b0a448d4",
   "metadata": {},
   "outputs": [],
   "source": [
    "#Dat\n",
    "# Red_wine histogram\n",
    "\n",
    "fig, axs = plt.subplots(6, 2, figsize=(15,30))\n",
    "ndarray_red_features = df_red_wine.columns.values.reshape(6,2)\n",
    "for i in range(6):\n",
    "    for j in range(2):\n",
    "        feature = ndarray_red_features[i, j]\n",
    "        df_red_wine[feature].plot(kind=\"hist\", bins=30, ax=axs[i, j])\n",
    "        axs[i,j].set(title = feature, ylabel=\"Count\")"
   ]
  },
  {
   "cell_type": "code",
   "execution_count": null,
   "id": "4aa30163",
   "metadata": {
    "scrolled": true
   },
   "outputs": [],
   "source": [
    "#Dat\n",
    "# White_wine histogram\n",
    "\n",
    "fig, axs = plt.subplots(6, 2, figsize=(15,30))\n",
    "ndarray_white_features = df_white_wine.columns.values.reshape(6,2)\n",
    "for i in range(6):\n",
    "    for j in range(2):\n",
    "        feature = ndarray_white_features[i, j]\n",
    "        df_white_wine[feature].plot(kind=\"hist\", bins=30, ax=axs[i, j])\n",
    "        axs[i,j].set(title = feature, ylabel=\"Count\")"
   ]
  },
  {
   "cell_type": "markdown",
   "id": "45071bce",
   "metadata": {},
   "source": [
    "## Create visualization plots for every feature"
   ]
  },
  {
   "cell_type": "code",
   "execution_count": null,
   "id": "1310737b",
   "metadata": {},
   "outputs": [],
   "source": [
    "#Dat\n",
    "\n",
    "fig, axs = plt.subplots(1, 2, figsize=(15,15))\n",
    "\n",
    "# Red_wine quality pie chart\n",
    "\n",
    "red_wine_quality = df_red_wine['quality'].value_counts()\n",
    "plt.subplot(1,2,1)\n",
    "plt.pie(red_wine_quality, startangle=90, labels=red_wine_quality.index)\n",
    "plt.title(\"Red wine quality\")\n",
    "\n",
    "# White_wine quality pie chart\n",
    "\n",
    "white_wine_quality = df_white_wine['quality'].value_counts()\n",
    "plt.subplot(1,2,2)\n",
    "plt.pie(white_wine_quality, startangle=90, labels=white_wine_quality.index)\n",
    "plt.title(\"White wine quality\")"
   ]
  },
  {
   "cell_type": "code",
   "execution_count": 100,
   "id": "521b5abd",
   "metadata": {},
   "outputs": [
    {
     "data": {
      "text/plain": [
       "<AxesSubplot:ylabel='quality'>"
      ]
     },
     "execution_count": 100,
     "metadata": {},
     "output_type": "execute_result"
    },
    {
     "data": {
      "image/png": "[encoded data removed]",
      "text/plain": [
       "<Figure size 640x480 with 1 Axes>"
      ]
     },
     "metadata": {},
     "output_type": "display_data"
    }
   ],
   "source": [
    "#Dat\n",
    "\n",
    "sns.lineplot(data = red_wine_quality, color='r')\n",
    "sns.lineplot(data = white_wine_quality, color='b')"
   ]
  },
  {
   "cell_type": "markdown",
   "id": "8c563325",
   "metadata": {},
   "source": [
    "# Draft"
   ]
  },
  {
   "cell_type": "markdown",
   "id": "61c05005",
   "metadata": {},
   "source": [
    "> hl271\n",
    "\n",
    "## 3. Suggest ML Algorithm to classify the wine's quality\n",
    "\n",
    "### Approach 1: Convert to Regression Problem: \n",
    "\n",
    "- Suggested Model\n",
    "    - Multiple Linear Regression Model\n",
    "- Feature Selection: Choose 4-5 most correlated features to wine's quality (Ex: alcohol, acid_citric, sulphate, volatile acidity) \n",
    "- Round up the predicted quality to integer value\n",
    "\n",
    "### Approach 2: Classification Problem\n",
    "\n",
    "- For simplifying purpose, we can use **binary classification**: classify wine's quality is \n",
    "    - bad if quality <=5\n",
    "    - good if quality >5\n",
    "- Suggested Models:\n",
    "    - Support Vector Classifier\n",
    "    - Decision Tree/ Random Forest Classifier"
   ]
  },
  {
   "cell_type": "markdown",
   "id": "845e4383",
   "metadata": {},
   "source": [
    "> hl271\n",
    "\n",
    "## 4. Suggest ML Algorithm to group wine based on its features\n",
    "- This is a **Clustering** problem\n",
    "- Suggested Model:\n",
    "    - K-Means"
   ]
  },
  {
   "cell_type": "code",
   "execution_count": null,
   "id": "1fefc418",
   "metadata": {},
   "outputs": [],
   "source": []
  }
 ],
 "metadata": {
  "kernelspec": {
   "display_name": "Python 3 (ipykernel)",
   "language": "python",
   "name": "python3"
  },
  "language_info": {
   "codemirror_mode": {
    "name": "ipython",
    "version": 3
   },
   "file_extension": ".py",
   "mimetype": "text/x-python",
   "name": "python",
   "nbconvert_exporter": "python",
   "pygments_lexer": "ipython3",
   "version": "3.10.5"
  }
 },
 "nbformat": 4,
 "nbformat_minor": 5
}
